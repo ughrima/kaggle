{
 "cells": [
  {
   "cell_type": "markdown",
   "id": "873c285a",
   "metadata": {},
   "source": [
    "## Decision Tree - accuracy showed is  107904.166\n",
    "\n",
    "#### The worst"
   ]
  },
  {
   "cell_type": "code",
   "execution_count": 1,
   "id": "4c277c59",
   "metadata": {
    "_cell_guid": "b1076dfc-b9ad-4769-8c92-a6c4dae69d19",
    "_uuid": "8f2839f25d086af736a60e9eeb907d3b93b6e0e5",
    "execution": {
     "iopub.execute_input": "2024-06-07T08:58:40.734375Z",
     "iopub.status.busy": "2024-06-07T08:58:40.733965Z",
     "iopub.status.idle": "2024-06-07T08:59:00.974735Z",
     "shell.execute_reply": "2024-06-07T08:59:00.973211Z"
    },
    "papermill": {
     "duration": 20.256403,
     "end_time": "2024-06-07T08:59:00.977656",
     "exception": false,
     "start_time": "2024-06-07T08:58:40.721253",
     "status": "completed"
    },
    "tags": []
   },
   "outputs": [],
   "source": [
    "import numpy as np \n",
    "import pandas as pd \n",
    "import matplotlib.pyplot as plt \n",
    "import seaborn as sns \n",
    "from sklearn import preprocessing \n",
    "from sklearn.linear_model import LinearRegression\n",
    "from sklearn.linear_model import LogisticRegression\n",
    "from sklearn.tree import DecisionTreeClassifier\n",
    "from sklearn.ensemble import RandomForestClassifier\n",
    "from sklearn.naive_bayes import GaussianNB\n",
    "from sklearn.neighbors import KNeighborsClassifier\n",
    "from sklearn import svm\n",
    "import tensorflow.keras as keras \n",
    "from sklearn.ensemble import RandomForestRegressor\n",
    "from sklearn.metrics import mean_squared_error\n",
    "from xgboost import XGBClassifier\n",
    "from sklearn.preprocessing import StandardScaler, OneHotEncoder\n",
    "from sklearn.metrics import accuracy_score,classification_report\n",
    "\n",
    "import xgboost as xgb\n",
    "from sklearn.model_selection import train_test_split, GridSearchCV, cross_val_score\n",
    "\n",
    "\n",
    "\n",
    "import os\n",
    "for dirname, _, filenames in os.walk('/kaggle/input'):\n",
    "    for filename in filenames:\n",
    "        print(os.path.join(dirname, filename))\n",
    "        "
   ]
  },
  {
   "cell_type": "code",
   "execution_count": 2,
   "id": "c92d34d9",
   "metadata": {
    "execution": {
     "iopub.execute_input": "2024-06-07T08:59:01.003784Z",
     "iopub.status.busy": "2024-06-07T08:59:01.002959Z",
     "iopub.status.idle": "2024-06-07T08:59:01.511322Z",
     "shell.execute_reply": "2024-06-07T08:59:01.509978Z"
    },
    "papermill": {
     "duration": 0.525424,
     "end_time": "2024-06-07T08:59:01.514397",
     "exception": false,
     "start_time": "2024-06-07T08:59:00.988973",
     "status": "completed"
    },
    "tags": []
   },
   "outputs": [],
   "source": [
    "train = pd.read_csv('dataset/train.csv')\n",
    "test = pd.read_csv('dataset/test.csv')"
   ]
  },
  {
   "cell_type": "code",
   "execution_count": 3,
   "id": "f8d99e64",
   "metadata": {
    "execution": {
     "iopub.execute_input": "2024-06-07T08:59:01.539103Z",
     "iopub.status.busy": "2024-06-07T08:59:01.538331Z",
     "iopub.status.idle": "2024-06-07T08:59:01.568765Z",
     "shell.execute_reply": "2024-06-07T08:59:01.567609Z"
    },
    "papermill": {
     "duration": 0.045735,
     "end_time": "2024-06-07T08:59:01.571591",
     "exception": false,
     "start_time": "2024-06-07T08:59:01.525856",
     "status": "completed"
    },
    "tags": []
   },
   "outputs": [
    {
     "data": {
      "text/html": [
       "<div>\n",
       "<style scoped>\n",
       "    .dataframe tbody tr th:only-of-type {\n",
       "        vertical-align: middle;\n",
       "    }\n",
       "\n",
       "    .dataframe tbody tr th {\n",
       "        vertical-align: top;\n",
       "    }\n",
       "\n",
       "    .dataframe thead th {\n",
       "        text-align: right;\n",
       "    }\n",
       "</style>\n",
       "<table border=\"1\" class=\"dataframe\">\n",
       "  <thead>\n",
       "    <tr style=\"text-align: right;\">\n",
       "      <th></th>\n",
       "      <th>id</th>\n",
       "      <th>brand</th>\n",
       "      <th>model</th>\n",
       "      <th>model_year</th>\n",
       "      <th>milage</th>\n",
       "      <th>fuel_type</th>\n",
       "      <th>engine</th>\n",
       "      <th>transmission</th>\n",
       "      <th>ext_col</th>\n",
       "      <th>int_col</th>\n",
       "      <th>accident</th>\n",
       "      <th>clean_title</th>\n",
       "      <th>price</th>\n",
       "    </tr>\n",
       "  </thead>\n",
       "  <tbody>\n",
       "    <tr>\n",
       "      <th>54268</th>\n",
       "      <td>54268</td>\n",
       "      <td>BMW</td>\n",
       "      <td>X6 xDrive50i</td>\n",
       "      <td>2017</td>\n",
       "      <td>29000</td>\n",
       "      <td>Gasoline</td>\n",
       "      <td>445.0HP 4.4L 8 Cylinder Engine Gasoline Fuel</td>\n",
       "      <td>8-Speed A/T</td>\n",
       "      <td>White</td>\n",
       "      <td>Brown</td>\n",
       "      <td>None reported</td>\n",
       "      <td>Yes</td>\n",
       "      <td>29000</td>\n",
       "    </tr>\n",
       "    <tr>\n",
       "      <th>54269</th>\n",
       "      <td>54269</td>\n",
       "      <td>Audi</td>\n",
       "      <td>A4 2.0T Premium</td>\n",
       "      <td>2015</td>\n",
       "      <td>94634</td>\n",
       "      <td>E85 Flex Fuel</td>\n",
       "      <td>220.0HP 2.0L 4 Cylinder Engine Flex Fuel Capab...</td>\n",
       "      <td>6-Speed A/T</td>\n",
       "      <td>Black</td>\n",
       "      <td>Black</td>\n",
       "      <td>At least 1 accident or damage reported</td>\n",
       "      <td>Yes</td>\n",
       "      <td>6500</td>\n",
       "    </tr>\n",
       "    <tr>\n",
       "      <th>54270</th>\n",
       "      <td>54270</td>\n",
       "      <td>Porsche</td>\n",
       "      <td>Cayenne S</td>\n",
       "      <td>2013</td>\n",
       "      <td>40989</td>\n",
       "      <td>Gasoline</td>\n",
       "      <td>420.0HP 3.6L V6 Cylinder Engine Gasoline Fuel</td>\n",
       "      <td>Transmission w/Dual Shift Mode</td>\n",
       "      <td>White</td>\n",
       "      <td>Black</td>\n",
       "      <td>At least 1 accident or damage reported</td>\n",
       "      <td>Yes</td>\n",
       "      <td>18950</td>\n",
       "    </tr>\n",
       "    <tr>\n",
       "      <th>54271</th>\n",
       "      <td>54271</td>\n",
       "      <td>Porsche</td>\n",
       "      <td>911 Carrera 4 GTS</td>\n",
       "      <td>2023</td>\n",
       "      <td>1518</td>\n",
       "      <td>Gasoline</td>\n",
       "      <td>4.0L H6 24V GDI DOHC</td>\n",
       "      <td>8-Speed Automatic with Auto-Shift</td>\n",
       "      <td>Beige</td>\n",
       "      <td>Brown</td>\n",
       "      <td>None reported</td>\n",
       "      <td>Yes</td>\n",
       "      <td>194965</td>\n",
       "    </tr>\n",
       "    <tr>\n",
       "      <th>54272</th>\n",
       "      <td>54272</td>\n",
       "      <td>Audi</td>\n",
       "      <td>A5 Sportback S line Premium Plus</td>\n",
       "      <td>2021</td>\n",
       "      <td>35000</td>\n",
       "      <td>Hybrid</td>\n",
       "      <td>261.0HP 2.0L 4 Cylinder Engine Gasoline/Mild E...</td>\n",
       "      <td>8-Speed A/T</td>\n",
       "      <td>Black</td>\n",
       "      <td>Black</td>\n",
       "      <td>None reported</td>\n",
       "      <td>Yes</td>\n",
       "      <td>37499</td>\n",
       "    </tr>\n",
       "  </tbody>\n",
       "</table>\n",
       "</div>"
      ],
      "text/plain": [
       "          id    brand                             model  model_year  milage  \\\n",
       "54268  54268      BMW                      X6 xDrive50i        2017   29000   \n",
       "54269  54269     Audi                   A4 2.0T Premium        2015   94634   \n",
       "54270  54270  Porsche                         Cayenne S        2013   40989   \n",
       "54271  54271  Porsche                 911 Carrera 4 GTS        2023    1518   \n",
       "54272  54272     Audi  A5 Sportback S line Premium Plus        2021   35000   \n",
       "\n",
       "           fuel_type                                             engine  \\\n",
       "54268       Gasoline       445.0HP 4.4L 8 Cylinder Engine Gasoline Fuel   \n",
       "54269  E85 Flex Fuel  220.0HP 2.0L 4 Cylinder Engine Flex Fuel Capab...   \n",
       "54270       Gasoline      420.0HP 3.6L V6 Cylinder Engine Gasoline Fuel   \n",
       "54271       Gasoline                               4.0L H6 24V GDI DOHC   \n",
       "54272         Hybrid  261.0HP 2.0L 4 Cylinder Engine Gasoline/Mild E...   \n",
       "\n",
       "                            transmission ext_col int_col  \\\n",
       "54268                        8-Speed A/T   White   Brown   \n",
       "54269                        6-Speed A/T   Black   Black   \n",
       "54270     Transmission w/Dual Shift Mode   White   Black   \n",
       "54271  8-Speed Automatic with Auto-Shift   Beige   Brown   \n",
       "54272                        8-Speed A/T   Black   Black   \n",
       "\n",
       "                                     accident clean_title   price  \n",
       "54268                           None reported         Yes   29000  \n",
       "54269  At least 1 accident or damage reported         Yes    6500  \n",
       "54270  At least 1 accident or damage reported         Yes   18950  \n",
       "54271                           None reported         Yes  194965  \n",
       "54272                           None reported         Yes   37499  "
      ]
     },
     "execution_count": 3,
     "metadata": {},
     "output_type": "execute_result"
    }
   ],
   "source": [
    "train.tail()"
   ]
  },
  {
   "cell_type": "markdown",
   "id": "67747ec2",
   "metadata": {
    "papermill": {
     "duration": 0.010887,
     "end_time": "2024-06-07T08:59:01.593888",
     "exception": false,
     "start_time": "2024-06-07T08:59:01.583001",
     "status": "completed"
    },
    "tags": []
   },
   "source": [
    "### Basic Inspection"
   ]
  },
  {
   "cell_type": "code",
   "execution_count": 4,
   "id": "4bf915ca",
   "metadata": {
    "execution": {
     "iopub.execute_input": "2024-06-07T08:59:01.618215Z",
     "iopub.status.busy": "2024-06-07T08:59:01.617764Z",
     "iopub.status.idle": "2024-06-07T08:59:01.625582Z",
     "shell.execute_reply": "2024-06-07T08:59:01.624342Z"
    },
    "papermill": {
     "duration": 0.023106,
     "end_time": "2024-06-07T08:59:01.628230",
     "exception": false,
     "start_time": "2024-06-07T08:59:01.605124",
     "status": "completed"
    },
    "tags": []
   },
   "outputs": [
    {
     "data": {
      "text/plain": [
       "(54273, 13)"
      ]
     },
     "execution_count": 4,
     "metadata": {},
     "output_type": "execute_result"
    }
   ],
   "source": [
    "train.shape"
   ]
  },
  {
   "cell_type": "code",
   "execution_count": 5,
   "id": "ed77795f",
   "metadata": {
    "execution": {
     "iopub.execute_input": "2024-06-07T08:59:01.653610Z",
     "iopub.status.busy": "2024-06-07T08:59:01.653125Z",
     "iopub.status.idle": "2024-06-07T08:59:01.672182Z",
     "shell.execute_reply": "2024-06-07T08:59:01.670701Z"
    },
    "papermill": {
     "duration": 0.034766,
     "end_time": "2024-06-07T08:59:01.674879",
     "exception": false,
     "start_time": "2024-06-07T08:59:01.640113",
     "status": "completed"
    },
    "tags": []
   },
   "outputs": [
    {
     "data": {
      "text/html": [
       "<div>\n",
       "<style scoped>\n",
       "    .dataframe tbody tr th:only-of-type {\n",
       "        vertical-align: middle;\n",
       "    }\n",
       "\n",
       "    .dataframe tbody tr th {\n",
       "        vertical-align: top;\n",
       "    }\n",
       "\n",
       "    .dataframe thead th {\n",
       "        text-align: right;\n",
       "    }\n",
       "</style>\n",
       "<table border=\"1\" class=\"dataframe\">\n",
       "  <thead>\n",
       "    <tr style=\"text-align: right;\">\n",
       "      <th></th>\n",
       "      <th>id</th>\n",
       "      <th>brand</th>\n",
       "      <th>model</th>\n",
       "      <th>model_year</th>\n",
       "      <th>milage</th>\n",
       "      <th>fuel_type</th>\n",
       "      <th>engine</th>\n",
       "      <th>transmission</th>\n",
       "      <th>ext_col</th>\n",
       "      <th>int_col</th>\n",
       "      <th>accident</th>\n",
       "      <th>clean_title</th>\n",
       "      <th>price</th>\n",
       "    </tr>\n",
       "  </thead>\n",
       "  <tbody>\n",
       "    <tr>\n",
       "      <th>54268</th>\n",
       "      <td>54268</td>\n",
       "      <td>BMW</td>\n",
       "      <td>X6 xDrive50i</td>\n",
       "      <td>2017</td>\n",
       "      <td>29000</td>\n",
       "      <td>Gasoline</td>\n",
       "      <td>445.0HP 4.4L 8 Cylinder Engine Gasoline Fuel</td>\n",
       "      <td>8-Speed A/T</td>\n",
       "      <td>White</td>\n",
       "      <td>Brown</td>\n",
       "      <td>None reported</td>\n",
       "      <td>Yes</td>\n",
       "      <td>29000</td>\n",
       "    </tr>\n",
       "    <tr>\n",
       "      <th>54269</th>\n",
       "      <td>54269</td>\n",
       "      <td>Audi</td>\n",
       "      <td>A4 2.0T Premium</td>\n",
       "      <td>2015</td>\n",
       "      <td>94634</td>\n",
       "      <td>E85 Flex Fuel</td>\n",
       "      <td>220.0HP 2.0L 4 Cylinder Engine Flex Fuel Capab...</td>\n",
       "      <td>6-Speed A/T</td>\n",
       "      <td>Black</td>\n",
       "      <td>Black</td>\n",
       "      <td>At least 1 accident or damage reported</td>\n",
       "      <td>Yes</td>\n",
       "      <td>6500</td>\n",
       "    </tr>\n",
       "    <tr>\n",
       "      <th>54270</th>\n",
       "      <td>54270</td>\n",
       "      <td>Porsche</td>\n",
       "      <td>Cayenne S</td>\n",
       "      <td>2013</td>\n",
       "      <td>40989</td>\n",
       "      <td>Gasoline</td>\n",
       "      <td>420.0HP 3.6L V6 Cylinder Engine Gasoline Fuel</td>\n",
       "      <td>Transmission w/Dual Shift Mode</td>\n",
       "      <td>White</td>\n",
       "      <td>Black</td>\n",
       "      <td>At least 1 accident or damage reported</td>\n",
       "      <td>Yes</td>\n",
       "      <td>18950</td>\n",
       "    </tr>\n",
       "    <tr>\n",
       "      <th>54271</th>\n",
       "      <td>54271</td>\n",
       "      <td>Porsche</td>\n",
       "      <td>911 Carrera 4 GTS</td>\n",
       "      <td>2023</td>\n",
       "      <td>1518</td>\n",
       "      <td>Gasoline</td>\n",
       "      <td>4.0L H6 24V GDI DOHC</td>\n",
       "      <td>8-Speed Automatic with Auto-Shift</td>\n",
       "      <td>Beige</td>\n",
       "      <td>Brown</td>\n",
       "      <td>None reported</td>\n",
       "      <td>Yes</td>\n",
       "      <td>194965</td>\n",
       "    </tr>\n",
       "    <tr>\n",
       "      <th>54272</th>\n",
       "      <td>54272</td>\n",
       "      <td>Audi</td>\n",
       "      <td>A5 Sportback S line Premium Plus</td>\n",
       "      <td>2021</td>\n",
       "      <td>35000</td>\n",
       "      <td>Hybrid</td>\n",
       "      <td>261.0HP 2.0L 4 Cylinder Engine Gasoline/Mild E...</td>\n",
       "      <td>8-Speed A/T</td>\n",
       "      <td>Black</td>\n",
       "      <td>Black</td>\n",
       "      <td>None reported</td>\n",
       "      <td>Yes</td>\n",
       "      <td>37499</td>\n",
       "    </tr>\n",
       "  </tbody>\n",
       "</table>\n",
       "</div>"
      ],
      "text/plain": [
       "          id    brand                             model  model_year  milage  \\\n",
       "54268  54268      BMW                      X6 xDrive50i        2017   29000   \n",
       "54269  54269     Audi                   A4 2.0T Premium        2015   94634   \n",
       "54270  54270  Porsche                         Cayenne S        2013   40989   \n",
       "54271  54271  Porsche                 911 Carrera 4 GTS        2023    1518   \n",
       "54272  54272     Audi  A5 Sportback S line Premium Plus        2021   35000   \n",
       "\n",
       "           fuel_type                                             engine  \\\n",
       "54268       Gasoline       445.0HP 4.4L 8 Cylinder Engine Gasoline Fuel   \n",
       "54269  E85 Flex Fuel  220.0HP 2.0L 4 Cylinder Engine Flex Fuel Capab...   \n",
       "54270       Gasoline      420.0HP 3.6L V6 Cylinder Engine Gasoline Fuel   \n",
       "54271       Gasoline                               4.0L H6 24V GDI DOHC   \n",
       "54272         Hybrid  261.0HP 2.0L 4 Cylinder Engine Gasoline/Mild E...   \n",
       "\n",
       "                            transmission ext_col int_col  \\\n",
       "54268                        8-Speed A/T   White   Brown   \n",
       "54269                        6-Speed A/T   Black   Black   \n",
       "54270     Transmission w/Dual Shift Mode   White   Black   \n",
       "54271  8-Speed Automatic with Auto-Shift   Beige   Brown   \n",
       "54272                        8-Speed A/T   Black   Black   \n",
       "\n",
       "                                     accident clean_title   price  \n",
       "54268                           None reported         Yes   29000  \n",
       "54269  At least 1 accident or damage reported         Yes    6500  \n",
       "54270  At least 1 accident or damage reported         Yes   18950  \n",
       "54271                           None reported         Yes  194965  \n",
       "54272                           None reported         Yes   37499  "
      ]
     },
     "execution_count": 5,
     "metadata": {},
     "output_type": "execute_result"
    }
   ],
   "source": [
    "train.tail()"
   ]
  },
  {
   "cell_type": "code",
   "execution_count": 6,
   "id": "6e5966ca",
   "metadata": {
    "execution": {
     "iopub.execute_input": "2024-06-07T08:59:01.700883Z",
     "iopub.status.busy": "2024-06-07T08:59:01.700421Z",
     "iopub.status.idle": "2024-06-07T08:59:01.718818Z",
     "shell.execute_reply": "2024-06-07T08:59:01.717574Z"
    },
    "papermill": {
     "duration": 0.034215,
     "end_time": "2024-06-07T08:59:01.721328",
     "exception": false,
     "start_time": "2024-06-07T08:59:01.687113",
     "status": "completed"
    },
    "tags": []
   },
   "outputs": [
    {
     "data": {
      "text/html": [
       "<div>\n",
       "<style scoped>\n",
       "    .dataframe tbody tr th:only-of-type {\n",
       "        vertical-align: middle;\n",
       "    }\n",
       "\n",
       "    .dataframe tbody tr th {\n",
       "        vertical-align: top;\n",
       "    }\n",
       "\n",
       "    .dataframe thead th {\n",
       "        text-align: right;\n",
       "    }\n",
       "</style>\n",
       "<table border=\"1\" class=\"dataframe\">\n",
       "  <thead>\n",
       "    <tr style=\"text-align: right;\">\n",
       "      <th></th>\n",
       "      <th>id</th>\n",
       "      <th>brand</th>\n",
       "      <th>model</th>\n",
       "      <th>model_year</th>\n",
       "      <th>milage</th>\n",
       "      <th>fuel_type</th>\n",
       "      <th>engine</th>\n",
       "      <th>transmission</th>\n",
       "      <th>ext_col</th>\n",
       "      <th>int_col</th>\n",
       "      <th>accident</th>\n",
       "      <th>clean_title</th>\n",
       "      <th>price</th>\n",
       "    </tr>\n",
       "  </thead>\n",
       "  <tbody>\n",
       "    <tr>\n",
       "      <th>0</th>\n",
       "      <td>0</td>\n",
       "      <td>Ford</td>\n",
       "      <td>F-150 Lariat</td>\n",
       "      <td>2018</td>\n",
       "      <td>74349</td>\n",
       "      <td>Gasoline</td>\n",
       "      <td>375.0HP 3.5L V6 Cylinder Engine Gasoline Fuel</td>\n",
       "      <td>10-Speed A/T</td>\n",
       "      <td>Blue</td>\n",
       "      <td>Gray</td>\n",
       "      <td>None reported</td>\n",
       "      <td>Yes</td>\n",
       "      <td>11000</td>\n",
       "    </tr>\n",
       "    <tr>\n",
       "      <th>1</th>\n",
       "      <td>1</td>\n",
       "      <td>BMW</td>\n",
       "      <td>335 i</td>\n",
       "      <td>2007</td>\n",
       "      <td>80000</td>\n",
       "      <td>Gasoline</td>\n",
       "      <td>300.0HP 3.0L Straight 6 Cylinder Engine Gasoli...</td>\n",
       "      <td>6-Speed M/T</td>\n",
       "      <td>Black</td>\n",
       "      <td>Black</td>\n",
       "      <td>None reported</td>\n",
       "      <td>Yes</td>\n",
       "      <td>8250</td>\n",
       "    </tr>\n",
       "    <tr>\n",
       "      <th>2</th>\n",
       "      <td>2</td>\n",
       "      <td>Jaguar</td>\n",
       "      <td>XF Luxury</td>\n",
       "      <td>2009</td>\n",
       "      <td>91491</td>\n",
       "      <td>Gasoline</td>\n",
       "      <td>300.0HP 4.2L 8 Cylinder Engine Gasoline Fuel</td>\n",
       "      <td>6-Speed A/T</td>\n",
       "      <td>Purple</td>\n",
       "      <td>Beige</td>\n",
       "      <td>None reported</td>\n",
       "      <td>Yes</td>\n",
       "      <td>15000</td>\n",
       "    </tr>\n",
       "    <tr>\n",
       "      <th>3</th>\n",
       "      <td>3</td>\n",
       "      <td>BMW</td>\n",
       "      <td>X7 xDrive40i</td>\n",
       "      <td>2022</td>\n",
       "      <td>2437</td>\n",
       "      <td>Hybrid</td>\n",
       "      <td>335.0HP 3.0L Straight 6 Cylinder Engine Gasoli...</td>\n",
       "      <td>Transmission w/Dual Shift Mode</td>\n",
       "      <td>Gray</td>\n",
       "      <td>Brown</td>\n",
       "      <td>None reported</td>\n",
       "      <td>Yes</td>\n",
       "      <td>63500</td>\n",
       "    </tr>\n",
       "    <tr>\n",
       "      <th>4</th>\n",
       "      <td>4</td>\n",
       "      <td>Pontiac</td>\n",
       "      <td>Firebird Base</td>\n",
       "      <td>2001</td>\n",
       "      <td>111000</td>\n",
       "      <td>Gasoline</td>\n",
       "      <td>200.0HP 3.8L V6 Cylinder Engine Gasoline Fuel</td>\n",
       "      <td>A/T</td>\n",
       "      <td>White</td>\n",
       "      <td>Black</td>\n",
       "      <td>None reported</td>\n",
       "      <td>Yes</td>\n",
       "      <td>7850</td>\n",
       "    </tr>\n",
       "  </tbody>\n",
       "</table>\n",
       "</div>"
      ],
      "text/plain": [
       "   id    brand          model  model_year  milage fuel_type  \\\n",
       "0   0     Ford   F-150 Lariat        2018   74349  Gasoline   \n",
       "1   1      BMW          335 i        2007   80000  Gasoline   \n",
       "2   2   Jaguar      XF Luxury        2009   91491  Gasoline   \n",
       "3   3      BMW   X7 xDrive40i        2022    2437    Hybrid   \n",
       "4   4  Pontiac  Firebird Base        2001  111000  Gasoline   \n",
       "\n",
       "                                              engine  \\\n",
       "0      375.0HP 3.5L V6 Cylinder Engine Gasoline Fuel   \n",
       "1  300.0HP 3.0L Straight 6 Cylinder Engine Gasoli...   \n",
       "2       300.0HP 4.2L 8 Cylinder Engine Gasoline Fuel   \n",
       "3  335.0HP 3.0L Straight 6 Cylinder Engine Gasoli...   \n",
       "4      200.0HP 3.8L V6 Cylinder Engine Gasoline Fuel   \n",
       "\n",
       "                     transmission ext_col int_col       accident clean_title  \\\n",
       "0                    10-Speed A/T    Blue    Gray  None reported         Yes   \n",
       "1                     6-Speed M/T   Black   Black  None reported         Yes   \n",
       "2                     6-Speed A/T  Purple   Beige  None reported         Yes   \n",
       "3  Transmission w/Dual Shift Mode    Gray   Brown  None reported         Yes   \n",
       "4                             A/T   White   Black  None reported         Yes   \n",
       "\n",
       "   price  \n",
       "0  11000  \n",
       "1   8250  \n",
       "2  15000  \n",
       "3  63500  \n",
       "4   7850  "
      ]
     },
     "execution_count": 6,
     "metadata": {},
     "output_type": "execute_result"
    }
   ],
   "source": [
    "train.head()"
   ]
  },
  {
   "cell_type": "code",
   "execution_count": 7,
   "id": "93991171",
   "metadata": {
    "execution": {
     "iopub.execute_input": "2024-06-07T08:59:01.748091Z",
     "iopub.status.busy": "2024-06-07T08:59:01.746874Z",
     "iopub.status.idle": "2024-06-07T08:59:01.817282Z",
     "shell.execute_reply": "2024-06-07T08:59:01.815900Z"
    },
    "papermill": {
     "duration": 0.086737,
     "end_time": "2024-06-07T08:59:01.820142",
     "exception": false,
     "start_time": "2024-06-07T08:59:01.733405",
     "status": "completed"
    },
    "tags": []
   },
   "outputs": [
    {
     "data": {
      "text/plain": [
       "id              54273\n",
       "brand              53\n",
       "model            1827\n",
       "model_year         34\n",
       "milage           3212\n",
       "fuel_type           7\n",
       "engine           1061\n",
       "transmission       46\n",
       "ext_col           260\n",
       "int_col           124\n",
       "accident            2\n",
       "clean_title         1\n",
       "price            1481\n",
       "dtype: int64"
      ]
     },
     "execution_count": 7,
     "metadata": {},
     "output_type": "execute_result"
    }
   ],
   "source": [
    "train.nunique()"
   ]
  },
  {
   "cell_type": "markdown",
   "id": "ac042f2e",
   "metadata": {
    "papermill": {
     "duration": 0.011919,
     "end_time": "2024-06-07T08:59:01.844410",
     "exception": false,
     "start_time": "2024-06-07T08:59:01.832491",
     "status": "completed"
    },
    "tags": []
   },
   "source": [
    "### Check for missing values"
   ]
  },
  {
   "cell_type": "code",
   "execution_count": 8,
   "id": "702397cf",
   "metadata": {
    "execution": {
     "iopub.execute_input": "2024-06-07T08:59:01.872029Z",
     "iopub.status.busy": "2024-06-07T08:59:01.871598Z",
     "iopub.status.idle": "2024-06-07T08:59:01.937490Z",
     "shell.execute_reply": "2024-06-07T08:59:01.936350Z"
    },
    "papermill": {
     "duration": 0.083788,
     "end_time": "2024-06-07T08:59:01.940590",
     "exception": false,
     "start_time": "2024-06-07T08:59:01.856802",
     "status": "completed"
    },
    "tags": []
   },
   "outputs": [
    {
     "data": {
      "text/plain": [
       "id              0\n",
       "brand           0\n",
       "model           0\n",
       "model_year      0\n",
       "milage          0\n",
       "fuel_type       0\n",
       "engine          0\n",
       "transmission    0\n",
       "ext_col         0\n",
       "int_col         0\n",
       "accident        0\n",
       "clean_title     0\n",
       "price           0\n",
       "dtype: int64"
      ]
     },
     "execution_count": 8,
     "metadata": {},
     "output_type": "execute_result"
    }
   ],
   "source": [
    "train.isnull().sum()\n"
   ]
  },
  {
   "cell_type": "code",
   "execution_count": 9,
   "id": "36fb2cc3",
   "metadata": {
    "execution": {
     "iopub.execute_input": "2024-06-07T08:59:01.967786Z",
     "iopub.status.busy": "2024-06-07T08:59:01.967327Z",
     "iopub.status.idle": "2024-06-07T08:59:01.973681Z",
     "shell.execute_reply": "2024-06-07T08:59:01.972309Z"
    },
    "papermill": {
     "duration": 0.022655,
     "end_time": "2024-06-07T08:59:01.976372",
     "exception": false,
     "start_time": "2024-06-07T08:59:01.953717",
     "status": "completed"
    },
    "tags": []
   },
   "outputs": [
    {
     "name": "stdout",
     "output_type": "stream",
     "text": [
      "Index(['id', 'brand', 'model', 'model_year', 'milage', 'fuel_type', 'engine',\n",
      "       'transmission', 'ext_col', 'int_col', 'accident', 'clean_title',\n",
      "       'price'],\n",
      "      dtype='object')\n"
     ]
    }
   ],
   "source": [
    "print(train.columns)"
   ]
  },
  {
   "cell_type": "markdown",
   "id": "f55178bd",
   "metadata": {
    "papermill": {
     "duration": 0.01242,
     "end_time": "2024-06-07T08:59:02.001214",
     "exception": false,
     "start_time": "2024-06-07T08:59:01.988794",
     "status": "completed"
    },
    "tags": []
   },
   "source": [
    "#### Since no null we proceed further and visualize correlation"
   ]
  },
  {
   "cell_type": "markdown",
   "id": "0e279942",
   "metadata": {
    "papermill": {
     "duration": 0.012288,
     "end_time": "2024-06-07T08:59:02.026476",
     "exception": false,
     "start_time": "2024-06-07T08:59:02.014188",
     "status": "completed"
    },
    "tags": []
   },
   "source": [
    "### Data Exploration"
   ]
  },
  {
   "cell_type": "code",
   "execution_count": 10,
   "id": "339bfc9e",
   "metadata": {
    "execution": {
     "iopub.execute_input": "2024-06-07T08:59:02.053572Z",
     "iopub.status.busy": "2024-06-07T08:59:02.053159Z",
     "iopub.status.idle": "2024-06-07T08:59:02.067735Z",
     "shell.execute_reply": "2024-06-07T08:59:02.066554Z"
    },
    "papermill": {
     "duration": 0.03111,
     "end_time": "2024-06-07T08:59:02.070480",
     "exception": false,
     "start_time": "2024-06-07T08:59:02.039370",
     "status": "completed"
    },
    "tags": []
   },
   "outputs": [
    {
     "name": "stdout",
     "output_type": "stream",
     "text": [
      "Categorical Variables\n",
      "Index(['brand', 'model', 'fuel_type', 'engine', 'transmission', 'ext_col',\n",
      "       'int_col', 'accident', 'clean_title'],\n",
      "      dtype='object')\n",
      "Numerical Variables\n",
      "['id', 'model_year', 'milage', 'price']\n"
     ]
    }
   ],
   "source": [
    "cat=train.select_dtypes(include=['object']).columns\n",
    "num=train.select_dtypes(include=np.number).columns.tolist()\n",
    "print(\"Categorical Variables\")\n",
    "print(cat)\n",
    "print(\"Numerical Variables\")\n",
    "print(num)"
   ]
  },
  {
   "cell_type": "markdown",
   "id": "07d5dd6b",
   "metadata": {
    "papermill": {
     "duration": 0.012481,
     "end_time": "2024-06-07T08:59:02.096652",
     "exception": false,
     "start_time": "2024-06-07T08:59:02.084171",
     "status": "completed"
    },
    "tags": []
   },
   "source": [
    "#### Encoding categorical variables so that the model can understand them better"
   ]
  },
  {
   "cell_type": "code",
   "execution_count": 11,
   "id": "285f510c",
   "metadata": {
    "execution": {
     "iopub.execute_input": "2024-06-07T08:59:02.124151Z",
     "iopub.status.busy": "2024-06-07T08:59:02.123737Z",
     "iopub.status.idle": "2024-06-07T08:59:02.141980Z",
     "shell.execute_reply": "2024-06-07T08:59:02.140659Z"
    },
    "papermill": {
     "duration": 0.035024,
     "end_time": "2024-06-07T08:59:02.144877",
     "exception": false,
     "start_time": "2024-06-07T08:59:02.109853",
     "status": "completed"
    },
    "tags": []
   },
   "outputs": [
    {
     "name": "stdout",
     "output_type": "stream",
     "text": [
      "BMW              7369\n",
      "Ford             6706\n",
      "Mercedes-Benz    5087\n",
      "Chevrolet        4424\n",
      "Audi             2922\n",
      "Porsche          2627\n",
      "Toyota           2315\n",
      "Lexus            2257\n",
      "Jeep             2247\n",
      "Land             1995\n",
      "Cadillac         1565\n",
      "Nissan           1252\n",
      "GMC              1076\n",
      "Dodge            1011\n",
      "RAM               966\n",
      "INFINITI          957\n",
      "Lincoln           767\n",
      "Mazda             748\n",
      "Subaru            739\n",
      "Hyundai           694\n",
      "Jaguar            661\n",
      "Volkswagen        628\n",
      "Honda             624\n",
      "Acura             580\n",
      "Kia               526\n",
      "Volvo             452\n",
      "MINI              364\n",
      "Maserati          293\n",
      "Bentley           284\n",
      "Chrysler          258\n",
      "Genesis           249\n",
      "Buick             228\n",
      "Mitsubishi        182\n",
      "Hummer            176\n",
      "Pontiac           149\n",
      "Alfa              144\n",
      "Rolls-Royce       142\n",
      "Lamborghini       122\n",
      "Tesla             110\n",
      "Ferrari            87\n",
      "Saturn             58\n",
      "Scion              53\n",
      "Aston              50\n",
      "McLaren            43\n",
      "Rivian             27\n",
      "Mercury            20\n",
      "FIAT               16\n",
      "Lotus              12\n",
      "Suzuki              4\n",
      "Maybach             3\n",
      "Lucid               2\n",
      "Plymouth            1\n",
      "Bugatti             1\n",
      "Name: brand, dtype: int64\n"
     ]
    }
   ],
   "source": [
    "print(train['brand'].value_counts())"
   ]
  },
  {
   "cell_type": "markdown",
   "id": "2b42b7e4",
   "metadata": {
    "papermill": {
     "duration": 0.012381,
     "end_time": "2024-06-07T08:59:02.170072",
     "exception": false,
     "start_time": "2024-06-07T08:59:02.157691",
     "status": "completed"
    },
    "tags": []
   },
   "source": [
    "### Encoding Test and Train Data"
   ]
  },
  {
   "cell_type": "code",
   "execution_count": 12,
   "id": "976f310b",
   "metadata": {
    "execution": {
     "iopub.execute_input": "2024-06-07T08:59:02.197453Z",
     "iopub.status.busy": "2024-06-07T08:59:02.197048Z",
     "iopub.status.idle": "2024-06-07T08:59:02.351806Z",
     "shell.execute_reply": "2024-06-07T08:59:02.350685Z"
    },
    "papermill": {
     "duration": 0.172089,
     "end_time": "2024-06-07T08:59:02.354861",
     "exception": false,
     "start_time": "2024-06-07T08:59:02.182772",
     "status": "completed"
    },
    "tags": []
   },
   "outputs": [],
   "source": [
    "label_encoder = preprocessing.LabelEncoder() \n",
    "train['brand'] = label_encoder.fit_transform(train['brand'])\n",
    "train['model'] = label_encoder.fit_transform(train['model'])\n",
    "train['fuel_type'] = label_encoder.fit_transform(train['fuel_type'])\n",
    "train['engine'] = label_encoder.fit_transform(train['engine'])\n",
    "train['transmission'] = label_encoder.fit_transform(train['transmission'])\n",
    "train['ext_col'] = label_encoder.fit_transform(train['ext_col'])\n",
    "train['int_col'] = label_encoder.fit_transform(train['int_col'])\n",
    "train['accident'] = label_encoder.fit_transform(train['accident'])\n",
    "train['clean_title'] = label_encoder.fit_transform(train['clean_title'])\n"
   ]
  },
  {
   "cell_type": "code",
   "execution_count": 13,
   "id": "b482e5b7",
   "metadata": {
    "execution": {
     "iopub.execute_input": "2024-06-07T08:59:02.382307Z",
     "iopub.status.busy": "2024-06-07T08:59:02.381876Z",
     "iopub.status.idle": "2024-06-07T08:59:02.494927Z",
     "shell.execute_reply": "2024-06-07T08:59:02.493593Z"
    },
    "papermill": {
     "duration": 0.130421,
     "end_time": "2024-06-07T08:59:02.498187",
     "exception": false,
     "start_time": "2024-06-07T08:59:02.367766",
     "status": "completed"
    },
    "tags": []
   },
   "outputs": [],
   "source": [
    "test['brand'] = label_encoder.fit_transform(test['brand'])\n",
    "test['model'] = label_encoder.fit_transform(test['model'])\n",
    "test['fuel_type'] = label_encoder.fit_transform(test['fuel_type'])\n",
    "test['engine'] = label_encoder.fit_transform(test['engine'])\n",
    "test['transmission'] = label_encoder.fit_transform(test['transmission'])\n",
    "test['ext_col'] = label_encoder.fit_transform(test['ext_col'])\n",
    "test['int_col'] = label_encoder.fit_transform(test['int_col'])\n",
    "test['accident'] = label_encoder.fit_transform(test['accident'])\n",
    "test['clean_title'] = label_encoder.fit_transform(test['clean_title'])\n"
   ]
  },
  {
   "cell_type": "code",
   "execution_count": 14,
   "id": "ab4995f6",
   "metadata": {
    "execution": {
     "iopub.execute_input": "2024-06-07T08:59:02.527428Z",
     "iopub.status.busy": "2024-06-07T08:59:02.527015Z",
     "iopub.status.idle": "2024-06-07T08:59:02.536868Z",
     "shell.execute_reply": "2024-06-07T08:59:02.535434Z"
    },
    "papermill": {
     "duration": 0.028073,
     "end_time": "2024-06-07T08:59:02.539799",
     "exception": false,
     "start_time": "2024-06-07T08:59:02.511726",
     "status": "completed"
    },
    "tags": []
   },
   "outputs": [
    {
     "name": "stdout",
     "output_type": "stream",
     "text": [
      "0    54273\n",
      "Name: clean_title, dtype: int64\n"
     ]
    }
   ],
   "source": [
    "print(train['clean_title'].value_counts())\n"
   ]
  },
  {
   "cell_type": "code",
   "execution_count": 15,
   "id": "2b4789c0",
   "metadata": {
    "execution": {
     "iopub.execute_input": "2024-06-07T08:59:02.636032Z",
     "iopub.status.busy": "2024-06-07T08:59:02.635639Z",
     "iopub.status.idle": "2024-06-07T08:59:03.589004Z",
     "shell.execute_reply": "2024-06-07T08:59:03.587837Z"
    },
    "papermill": {
     "duration": 0.972589,
     "end_time": "2024-06-07T08:59:03.594299",
     "exception": false,
     "start_time": "2024-06-07T08:59:02.621710",
     "status": "completed"
    },
    "tags": []
   },
   "outputs": [
    {
     "data": {
      "image/png": "[encoded data removed]",
      "text/plain": [
       "<Figure size 1440x720 with 2 Axes>"
      ]
     },
     "metadata": {
      "needs_background": "light"
     },
     "output_type": "display_data"
    }
   ],
   "source": [
    "correlation_matrix=train.corr()\n",
    "plt.figure(figsize=(20,10))\n",
    "sns.heatmap(correlation_matrix,annot=True)\n",
    "plt.show()\n"
   ]
  },
  {
   "cell_type": "code",
   "execution_count": 16,
   "id": "95c61364",
   "metadata": {
    "execution": {
     "iopub.execute_input": "2024-06-07T08:59:03.643494Z",
     "iopub.status.busy": "2024-06-07T08:59:03.643054Z",
     "iopub.status.idle": "2024-06-07T08:59:03.663357Z",
     "shell.execute_reply": "2024-06-07T08:59:03.662201Z"
    },
    "papermill": {
     "duration": 0.039521,
     "end_time": "2024-06-07T08:59:03.665986",
     "exception": false,
     "start_time": "2024-06-07T08:59:03.626465",
     "status": "completed"
    },
    "tags": []
   },
   "outputs": [
    {
     "data": {
      "text/html": [
       "<div>\n",
       "<style scoped>\n",
       "    .dataframe tbody tr th:only-of-type {\n",
       "        vertical-align: middle;\n",
       "    }\n",
       "\n",
       "    .dataframe tbody tr th {\n",
       "        vertical-align: top;\n",
       "    }\n",
       "\n",
       "    .dataframe thead th {\n",
       "        text-align: right;\n",
       "    }\n",
       "</style>\n",
       "<table border=\"1\" class=\"dataframe\">\n",
       "  <thead>\n",
       "    <tr style=\"text-align: right;\">\n",
       "      <th></th>\n",
       "      <th>id</th>\n",
       "      <th>brand</th>\n",
       "      <th>model</th>\n",
       "      <th>model_year</th>\n",
       "      <th>milage</th>\n",
       "      <th>fuel_type</th>\n",
       "      <th>engine</th>\n",
       "      <th>transmission</th>\n",
       "      <th>ext_col</th>\n",
       "      <th>int_col</th>\n",
       "      <th>accident</th>\n",
       "      <th>clean_title</th>\n",
       "    </tr>\n",
       "  </thead>\n",
       "  <tbody>\n",
       "    <tr>\n",
       "      <th>0</th>\n",
       "      <td>0</td>\n",
       "      <td>14</td>\n",
       "      <td>644</td>\n",
       "      <td>2018</td>\n",
       "      <td>74349</td>\n",
       "      <td>2</td>\n",
       "      <td>719</td>\n",
       "      <td>2</td>\n",
       "      <td>26</td>\n",
       "      <td>57</td>\n",
       "      <td>1</td>\n",
       "      <td>0</td>\n",
       "    </tr>\n",
       "    <tr>\n",
       "      <th>1</th>\n",
       "      <td>1</td>\n",
       "      <td>4</td>\n",
       "      <td>49</td>\n",
       "      <td>2007</td>\n",
       "      <td>80000</td>\n",
       "      <td>2</td>\n",
       "      <td>534</td>\n",
       "      <td>18</td>\n",
       "      <td>17</td>\n",
       "      <td>9</td>\n",
       "      <td>1</td>\n",
       "      <td>0</td>\n",
       "    </tr>\n",
       "    <tr>\n",
       "      <th>2</th>\n",
       "      <td>2</td>\n",
       "      <td>21</td>\n",
       "      <td>1771</td>\n",
       "      <td>2009</td>\n",
       "      <td>91491</td>\n",
       "      <td>2</td>\n",
       "      <td>541</td>\n",
       "      <td>14</td>\n",
       "      <td>181</td>\n",
       "      <td>6</td>\n",
       "      <td>1</td>\n",
       "      <td>0</td>\n",
       "    </tr>\n",
       "    <tr>\n",
       "      <th>3</th>\n",
       "      <td>3</td>\n",
       "      <td>4</td>\n",
       "      <td>1748</td>\n",
       "      <td>2022</td>\n",
       "      <td>2437</td>\n",
       "      <td>3</td>\n",
       "      <td>646</td>\n",
       "      <td>43</td>\n",
       "      <td>100</td>\n",
       "      <td>24</td>\n",
       "      <td>1</td>\n",
       "      <td>0</td>\n",
       "    </tr>\n",
       "    <tr>\n",
       "      <th>4</th>\n",
       "      <td>4</td>\n",
       "      <td>40</td>\n",
       "      <td>693</td>\n",
       "      <td>2001</td>\n",
       "      <td>111000</td>\n",
       "      <td>2</td>\n",
       "      <td>219</td>\n",
       "      <td>34</td>\n",
       "      <td>249</td>\n",
       "      <td>9</td>\n",
       "      <td>1</td>\n",
       "      <td>0</td>\n",
       "    </tr>\n",
       "  </tbody>\n",
       "</table>\n",
       "</div>"
      ],
      "text/plain": [
       "   id  brand  model  model_year  milage  fuel_type  engine  transmission  \\\n",
       "0   0     14    644        2018   74349          2     719             2   \n",
       "1   1      4     49        2007   80000          2     534            18   \n",
       "2   2     21   1771        2009   91491          2     541            14   \n",
       "3   3      4   1748        2022    2437          3     646            43   \n",
       "4   4     40    693        2001  111000          2     219            34   \n",
       "\n",
       "   ext_col  int_col  accident  clean_title  \n",
       "0       26       57         1            0  \n",
       "1       17        9         1            0  \n",
       "2      181        6         1            0  \n",
       "3      100       24         1            0  \n",
       "4      249        9         1            0  "
      ]
     },
     "execution_count": 16,
     "metadata": {},
     "output_type": "execute_result"
    }
   ],
   "source": [
    "x_train=train.drop(columns=['price'])\n",
    "y_train=train['price']\n",
    "x_train.head()"
   ]
  },
  {
   "cell_type": "code",
   "execution_count": 17,
   "id": "0af8b67a",
   "metadata": {
    "execution": {
     "iopub.execute_input": "2024-06-07T08:59:03.698909Z",
     "iopub.status.busy": "2024-06-07T08:59:03.698450Z",
     "iopub.status.idle": "2024-06-07T08:59:03.706854Z",
     "shell.execute_reply": "2024-06-07T08:59:03.705735Z"
    },
    "papermill": {
     "duration": 0.027893,
     "end_time": "2024-06-07T08:59:03.709320",
     "exception": false,
     "start_time": "2024-06-07T08:59:03.681427",
     "status": "completed"
    },
    "tags": []
   },
   "outputs": [
    {
     "data": {
      "text/plain": [
       "0    11000\n",
       "1     8250\n",
       "2    15000\n",
       "3    63500\n",
       "4     7850\n",
       "Name: price, dtype: int64"
      ]
     },
     "execution_count": 17,
     "metadata": {},
     "output_type": "execute_result"
    }
   ],
   "source": [
    "y_train.head()"
   ]
  },
  {
   "cell_type": "code",
   "execution_count": 18,
   "id": "2f8f4332",
   "metadata": {
    "execution": {
     "iopub.execute_input": "2024-06-07T08:59:03.742185Z",
     "iopub.status.busy": "2024-06-07T08:59:03.741769Z",
     "iopub.status.idle": "2024-06-07T08:59:03.749726Z",
     "shell.execute_reply": "2024-06-07T08:59:03.748470Z"
    },
    "papermill": {
     "duration": 0.027711,
     "end_time": "2024-06-07T08:59:03.752616",
     "exception": false,
     "start_time": "2024-06-07T08:59:03.724905",
     "status": "completed"
    },
    "tags": []
   },
   "outputs": [
    {
     "data": {
      "text/plain": [
       "Index(['id', 'brand', 'model', 'model_year', 'milage', 'fuel_type', 'engine',\n",
       "       'transmission', 'ext_col', 'int_col', 'accident', 'clean_title'],\n",
       "      dtype='object')"
      ]
     },
     "execution_count": 18,
     "metadata": {},
     "output_type": "execute_result"
    }
   ],
   "source": [
    "test.columns"
   ]
  },
  {
   "cell_type": "markdown",
   "id": "e718eb8b",
   "metadata": {
    "papermill": {
     "duration": 0.015943,
     "end_time": "2024-06-07T08:59:03.785892",
     "exception": false,
     "start_time": "2024-06-07T08:59:03.769949",
     "status": "completed"
    },
    "tags": []
   },
   "source": [
    "### Visualization"
   ]
  },
  {
   "cell_type": "code",
   "execution_count": 19,
   "id": "b5130ccf",
   "metadata": {
    "execution": {
     "iopub.execute_input": "2024-06-07T08:59:03.819058Z",
     "iopub.status.busy": "2024-06-07T08:59:03.818657Z",
     "iopub.status.idle": "2024-06-07T08:59:03.828408Z",
     "shell.execute_reply": "2024-06-07T08:59:03.827064Z"
    },
    "papermill": {
     "duration": 0.029296,
     "end_time": "2024-06-07T08:59:03.830895",
     "exception": false,
     "start_time": "2024-06-07T08:59:03.801599",
     "status": "completed"
    },
    "tags": []
   },
   "outputs": [
    {
     "data": {
      "text/plain": [
       "0         11000\n",
       "1          8250\n",
       "2         15000\n",
       "3         63500\n",
       "4          7850\n",
       "          ...  \n",
       "54268     29000\n",
       "54269      6500\n",
       "54270     18950\n",
       "54271    194965\n",
       "54272     37499\n",
       "Name: price, Length: 54273, dtype: int64"
      ]
     },
     "execution_count": 19,
     "metadata": {},
     "output_type": "execute_result"
    }
   ],
   "source": [
    "train['price']"
   ]
  },
  {
   "cell_type": "markdown",
   "id": "003138e3",
   "metadata": {
    "papermill": {
     "duration": 0.017055,
     "end_time": "2024-06-07T08:59:03.863795",
     "exception": false,
     "start_time": "2024-06-07T08:59:03.846740",
     "status": "completed"
    },
    "tags": []
   },
   "source": [
    "### Building Model"
   ]
  },
  {
   "cell_type": "code",
   "execution_count": 20,
   "id": "b6775e85",
   "metadata": {
    "execution": {
     "iopub.execute_input": "2024-06-07T08:59:03.898289Z",
     "iopub.status.busy": "2024-06-07T08:59:03.897266Z",
     "iopub.status.idle": "2024-06-07T08:59:03.914220Z",
     "shell.execute_reply": "2024-06-07T08:59:03.912890Z"
    },
    "papermill": {
     "duration": 0.037113,
     "end_time": "2024-06-07T08:59:03.916978",
     "exception": false,
     "start_time": "2024-06-07T08:59:03.879865",
     "status": "completed"
    },
    "tags": []
   },
   "outputs": [
    {
     "name": "stdout",
     "output_type": "stream",
     "text": [
      "Categorical Variables\n",
      "Index([], dtype='object')\n",
      "Numerical Variables\n",
      "['id', 'brand', 'model', 'model_year', 'milage', 'fuel_type', 'engine', 'transmission', 'ext_col', 'int_col', 'accident', 'clean_title']\n"
     ]
    }
   ],
   "source": [
    "#seperating Numerical and Categorical variables for better analysix\n",
    "cat=test.select_dtypes(include=['object']).columns\n",
    "num=test.select_dtypes(include=np.number).columns.tolist()\n",
    "print(\"Categorical Variables\")\n",
    "print(cat)\n",
    "print(\"Numerical Variables\")\n",
    "print(num)\n"
   ]
  },
  {
   "cell_type": "code",
   "execution_count": 28,
   "id": "c51afc61",
   "metadata": {},
   "outputs": [
    {
     "name": "stdout",
     "output_type": "stream",
     "text": [
      "[DecisionTree] training data accuracy is : 1.000000\n"
     ]
    }
   ],
   "source": [
    "\n",
    "a=dt\n",
    "b='DecisionTree'\n",
    "a.fit(x_train,y_train)\n",
    "prediction=a.predict(x_train)\n",
    "y_pred=a.predict(test)\n",
    "score1=accuracy_score(y_train,prediction)\n",
    "\n",
    "msg1=\"[%s] training data accuracy is : %f\" % (b,score1)\n",
    "print(msg1)\n",
    "    "
   ]
  },
  {
   "cell_type": "code",
   "execution_count": 29,
   "id": "2ae6ec61",
   "metadata": {},
   "outputs": [
    {
     "name": "stdout",
     "output_type": "stream",
     "text": [
      "      id  price\n",
      "0  54273  21500\n",
      "1  54274  28000\n",
      "2  54275  21900\n",
      "3  54276  75950\n",
      "4  54277  55000\n"
     ]
    }
   ],
   "source": [
    "submission = pd.DataFrame({'id': test['id'], 'price': y_pred})\n",
    "submission.to_csv('submission3.csv', index=False)\n",
    "print(submission.head())"
   ]
  }
 ],
 "metadata": {
  "kaggle": {
   "accelerator": "none",
   "dataSources": [
    {
     "datasetId": 5130305,
     "sourceId": 8578807,
     "sourceType": "datasetVersion"
    }
   ],
   "dockerImageVersionId": 30732,
   "isGpuEnabled": false,
   "isInternetEnabled": false,
   "language": "python",
   "sourceType": "notebook"
  },
  "kernelspec": {
   "display_name": "Python 3",
   "language": "python",
   "name": "python3"
  },
  "language_info": {
   "codemirror_mode": {
    "name": "ipython",
    "version": 3
   },
   "file_extension": ".py",
   "mimetype": "text/x-python",
   "name": "python",
   "nbconvert_exporter": "python",
   "pygments_lexer": "ipython3",
   "version": "3.7.-1"
  },
  "papermill": {
   "default_parameters": {},
   "duration": 87.109659,
   "end_time": "2024-06-07T09:00:04.399948",
   "environment_variables": {},
   "exception": null,
   "input_path": "__notebook__.ipynb",
   "output_path": "__notebook__.ipynb",
   "parameters": {},
   "start_time": "2024-06-07T08:58:37.290289",
   "version": "2.5.0"
  }
 },
 "nbformat": 4,
 "nbformat_minor": 5
}
